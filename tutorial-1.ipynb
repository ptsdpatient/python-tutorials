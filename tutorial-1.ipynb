{
 "cells": [
  {
   "cell_type": "markdown",
   "metadata": {},
   "source": [
    "Identifier are the name given to variables(fields), functions(methods) and classes. We can call these identifiers whenever we want to use them."
   ]
  },
  {
   "cell_type": "markdown",
   "metadata": {},
   "source": [
    "Variables/fields are objects in which we can store data or information  "
   ]
  },
  {
   "cell_type": "markdown",
   "metadata": {},
   "source": [
    "Functions/methods are a block of code that performs some task.\n",
    "These are important as they can be used anywhere in the code.\n",
    "It is useful as many times we have to write same code repetedly and so to avoid that we create a method/function that performs the repetetive task and then we can call/execute the method by calling its identifier."
   ]
  },
  {
   "cell_type": "markdown",
   "metadata": {},
   "source": [
    "Lets take an example,\n",
    "we want to create a variable age, which will be given some integer value because age are counted in number of years. However, we don't know if the variable age has been initialized(given a particular value).\n",
    "So we will make the program tell its value by calling the identifier of the variable."
   ]
  },
  {
   "cell_type": "code",
   "execution_count": null,
   "metadata": {},
   "outputs": [],
   "source": [
    "age=12\n",
    "print(age)"
   ]
  },
  {
   "cell_type": "markdown",
   "metadata": {},
   "source": [
    "The above code has two lines lets explore each one by one:\n"
   ]
  },
  {
   "cell_type": "markdown",
   "metadata": {},
   "source": [
    "In the first line we have created a variable called age, here \"age\" is an identifier, and we have initialized its value to be 12"
   ]
  },
  {
   "cell_type": "code",
   "execution_count": null,
   "metadata": {},
   "outputs": [],
   "source": [
    "age=12"
   ]
  },
  {
   "cell_type": "markdown",
   "metadata": {},
   "source": [
    "In the second line we have print(age). Here print is a method/function which is used to display data given to it on screen. The data to print is given in the round brackets \"()\" and an identifier is capsulated inside it like function(identifier). So, print method displays the identifier age and displays the value given to it. "
   ]
  },
  {
   "cell_type": "code",
   "execution_count": null,
   "metadata": {},
   "outputs": [],
   "source": [
    "print(age)"
   ]
  },
  {
   "cell_type": "markdown",
   "metadata": {},
   "source": [
    "Lets explore methods:"
   ]
  },
  {
   "cell_type": "code",
   "execution_count": 2,
   "metadata": {},
   "outputs": [
    {
     "name": "stdout",
     "output_type": "stream",
     "text": [
      "This string itself is the data\n"
     ]
    }
   ],
   "source": [
    "def speak(data):\n",
    "    print(data)\n",
    "speak(\"This string itself is the value\")"
   ]
  },
  {
   "cell_type": "markdown",
   "metadata": {},
   "source": [
    "the above code is an example of how we can use a function/method in python. Int the first line of the code we have def speak(data):\n",
    "here def is a keyword which states that the code following it will be a method/function. speak is the identifier or the name of the function, following it has round brackets which are scope variables (variables that are given to the method to operate or work on) that operates on variable given to it. the roundbrackets are followed by a \":\" which depicts that initialization of method is done and will have the code that it should perform everytime it is called with an indentation. "
   ]
  },
  {
   "cell_type": "markdown",
   "metadata": {},
   "source": [
    "indentations are spaces before line of code well aligned so that they represent where they actual belong, whether main branch or some method.lets take an example of a wrongly indented method"
   ]
  },
  {
   "cell_type": "code",
   "execution_count": 4,
   "metadata": {},
   "outputs": [
    {
     "ename": "SyntaxError",
     "evalue": "expected ':' (2545490913.py, line 1)",
     "output_type": "error",
     "traceback": [
      "\u001b[1;36m  Cell \u001b[1;32mIn[4], line 1\u001b[1;36m\u001b[0m\n\u001b[1;33m    def speak(data)\u001b[0m\n\u001b[1;37m                   ^\u001b[0m\n\u001b[1;31mSyntaxError\u001b[0m\u001b[1;31m:\u001b[0m expected ':'\n"
     ]
    }
   ],
   "source": [
    "def speak(data):\n",
    "print(data)\n",
    "speak(\"This string itself is the value\")"
   ]
  },
  {
   "cell_type": "markdown",
   "metadata": {},
   "source": []
  },
  {
   "cell_type": "markdown",
   "metadata": {},
   "source": [
    "the interpreter will give us alert that there is an indentation error and so print(data) comes outside of the method and is considered as a main code which runs chronologically."
   ]
  },
  {
   "cell_type": "markdown",
   "metadata": {},
   "source": [
    "Lets make a program that operates on two variables and returns a sum"
   ]
  },
  {
   "cell_type": "code",
   "execution_count": 7,
   "metadata": {},
   "outputs": [
    {
     "name": "stdout",
     "output_type": "stream",
     "text": [
      "20\n",
      "6\n",
      "40\n"
     ]
    }
   ],
   "source": [
    "num1=17\n",
    "num2=3\n",
    "def sum(input1,input2):\n",
    "    return input1+input2\n",
    "print(sum(num1,num2))\n",
    "print(sum(num2,num2))\n",
    "print(sum(sum(num1,num1),sum(num2,num2)))"
   ]
  },
  {
   "cell_type": "markdown",
   "metadata": {},
   "source": [
    "In the above code we have created two variables num1 and num2 with their particular values 17 amd 3 respectively.  then we have created a method with an identifier called sum which takes in two scope variables with an identifier input1 and input2. now the code inside it has the keyword return which gives an output in the case of the method sum an addition of input1 and input2 is returned as an output.\n",
    "the three print method without the indentation are executed first.\n",
    "the first print method gives the sum of num1 and num2 (17+3) which is 20. The second method displays the sum of num2 and num2 (3+3) which is 6. The third method displays the sum of two methods first method calculates sum of 17 and 17, 34 and second method calculates sum of 3 and 3, 6. the sum of both methods 34 and 6 yields to 40 which is our output."
   ]
  }
 ],
 "metadata": {
  "kernelspec": {
   "display_name": "Python 3",
   "language": "python",
   "name": "python3"
  },
  "language_info": {
   "codemirror_mode": {
    "name": "ipython",
    "version": 3
   },
   "file_extension": ".py",
   "mimetype": "text/x-python",
   "name": "python",
   "nbconvert_exporter": "python",
   "pygments_lexer": "ipython3",
   "version": "3.11.8"
  }
 },
 "nbformat": 4,
 "nbformat_minor": 2
}
