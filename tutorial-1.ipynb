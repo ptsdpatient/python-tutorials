{
 "cells": [
  {
   "cell_type": "markdown",
   "metadata": {},
   "source": [
    "###Identifier are the name given to variables(fields), functions(methods) and classes."
   ]
  },
  {
   "cell_type": "markdown",
   "metadata": {},
   "source": [
    "###Variables/fields are objects in which we can store data or information  "
   ]
  },
  {
   "cell_type": "markdown",
   "metadata": {},
   "source": [
    "###Functions/methods are a block of code that performs some task.\n",
    "These are important as they can be used anywhere in the code.\n",
    "It is useful as many times we have to write same code repetedly and so to avoid that we create a method/function that performs the repetetive task and then we can call/execute the method by calling its identifier."
   ]
  },
  {
   "cell_type": "markdown",
   "metadata": {},
   "source": [
    "Lets take an example,\n",
    "we want to create a variable age, which will be given some integer value because age are counted in number of years. However, we don't know if the variable age has been initialized(given a particular value).\n",
    "So we will make the program tell its value by calling the identifier of the variable."
   ]
  },
  {
   "cell_type": "code",
   "execution_count": 1,
   "metadata": {},
   "outputs": [
    {
     "name": "stdout",
     "output_type": "stream",
     "text": [
      "12\n"
     ]
    }
   ],
   "source": [
    "age=12\n",
    "print(age)"
   ]
  },
  {
   "cell_type": "markdown",
   "metadata": {},
   "source": [
    "The above code has two lines lets explore each one by one:\n",
    "In the first line we have created a variable called age, here \"age\" is an identifier, and we have initialized its value to be 12."
   ]
  },
  {
   "cell_type": "code",
   "execution_count": 2,
   "metadata": {},
   "outputs": [],
   "source": [
    "age=12"
   ]
  },
  {
   "cell_type": "markdown",
   "metadata": {},
   "source": [
    "In the second line we have print(age). Here print is a method/function which is used to display data given to it on screen. The data to print is given in the round brackets \"()\" and an identifier is capsulated inside it like function(identifier). So, print method displays the identifier age and displays the value given to it. "
   ]
  },
  {
   "cell_type": "code",
   "execution_count": 3,
   "metadata": {},
   "outputs": [
    {
     "name": "stdout",
     "output_type": "stream",
     "text": [
      "12\n"
     ]
    }
   ],
   "source": [
    "print(age)"
   ]
  }
 ],
 "metadata": {
  "kernelspec": {
   "display_name": "Python 3",
   "language": "python",
   "name": "python3"
  },
  "language_info": {
   "codemirror_mode": {
    "name": "ipython",
    "version": 3
   },
   "file_extension": ".py",
   "mimetype": "text/x-python",
   "name": "python",
   "nbconvert_exporter": "python",
   "pygments_lexer": "ipython3",
   "version": "3.11.8"
  }
 },
 "nbformat": 4,
 "nbformat_minor": 2
}
